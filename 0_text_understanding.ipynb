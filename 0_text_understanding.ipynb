{
 "cells": [
  {
   "cell_type": "markdown",
   "id": "ebe0530b-0f71-4045-87d6-a4c38ea24e45",
   "metadata": {},
   "source": [
    "## 0. Text Understanding"
   ]
  },
  {
   "cell_type": "code",
   "execution_count": 1,
   "id": "e93fe7e8-159a-4319-9848-d85118ce6f22",
   "metadata": {},
   "outputs": [],
   "source": [
    "import boto3\n",
    "import json\n",
    "\n",
    "\n",
    "def understand_text(prompt):\n",
    "    # Bedrock Runtime 클라이언트 생성 (기본 설정된 AWS 자격 증명과 리전 사용)\n",
    "    client = boto3.client(\n",
    "        service_name='bedrock-runtime'\n",
    "    )\n",
    "    \n",
    "    # 사용할 모델 ID 지정 (Amazon의 Nova Lite 모델)\n",
    "    model_id = \"amazon.nova-lite-v1:0\"\n",
    "    \n",
    "    # 시스템 메시지: 모델이 어떤 역할을 수행하는지 지정\n",
    "    system = [{ \"text\": \"너는 사람에게 도움을 주는 인공지능이야\"}]\n",
    "\n",
    "    # 사용자 입력 메시지 정의 (프롬프트는 함수 호출 시 전달됨)\n",
    "    messages = [\n",
    "        {\"role\": \"user\", \"content\": [{\"text\": prompt}]},\n",
    "    ]\n",
    "\n",
    "    # 모델 추론 설정: 출력 최대 토큰 수, topP, temperature 설정\n",
    "    inference_params = {\n",
    "        \"maxTokens\": 2048,  # 최대 출력 토큰 수\n",
    "        \"topP\": 0.1,        # 숫자가 크면 더 다양한 단어들이 선택 (누적 확률)\n",
    "        \"temperature\": 0.3  # 출력 다양성 조절 (낮을수록 더 결정적)\n",
    "    }\n",
    "\n",
    "    # 추가적인 모델 요청 필드 설정 (예: topK)\n",
    "    additionalModelRequestFields = {\n",
    "        \"inferenceConfig\": {\n",
    "            \"topK\": 20  # top-K sampling: 가장 가능성 높은 20개 후보 중에서 선택\n",
    "        }\n",
    "    }\n",
    "\n",
    "    # 모델에 대화 요청 보내기 (Bedrock의 converse API 사용)\n",
    "    model_response = client.converse(\n",
    "        modelId=model_id,  # 사용할 모델\n",
    "        messages=messages,  # 사용자 입력 메시지\n",
    "        system=system,  # 시스템 메시지\n",
    "        inferenceConfig=inference_params,  # 추론 파라미터\n",
    "        additionalModelRequestFields=additionalModelRequestFields  # 추가 설정\n",
    "    )\n",
    "\n",
    "    # 추론 성능 메트릭 출력 (예: 처리 시간 등)\n",
    "    print(\"\\n[metrics]-------------------\")\n",
    "    print(json.dumps(model_response['metrics'], indent=2))\n",
    "    \n",
    "    # 사용량 정보 출력 (예: 사용한 토큰 수 등)\n",
    "    print(\"\\n[Usage]-------------------\")\n",
    "    print(json.dumps(model_response['usage'], indent=2))\n",
    "\n",
    "    # 응답 메시지에서 실제 생성된 텍스트 추출\n",
    "    content = model_response[\"output\"][\"message\"][\"content\"][0][\"text\"]\n",
    "\n",
    "    # 생성된 텍스트 반환\n",
    "    return content\n"
   ]
  },
  {
   "cell_type": "code",
   "execution_count": 2,
   "id": "f7dc5409-ead5-4c10-be86-24c92b7ab0ce",
   "metadata": {},
   "outputs": [
    {
     "name": "stdout",
     "output_type": "stream",
     "text": [
      "\n",
      "[metrics]-------------------\n",
      "{\n",
      "  \"latencyMs\": 5707\n",
      "}\n",
      "\n",
      "[Usage]-------------------\n",
      "{\n",
      "  \"inputTokens\": 62,\n",
      "  \"outputTokens\": 1360,\n",
      "  \"totalTokens\": 1422\n",
      "}\n",
      "\n",
      "[Response Content Text]-------------------\n",
      "인공지능(AI)은 컴퓨터 시스템이 인간과 유사한 방식으로 작업을 수행하고 학습할 수 있도록 하는 기술입니다. 인공지능의 발전은 다양한 분야에서 혁신을 가져왔으며, 미래에는 더 많은 변화와 기회가 예상됩니다. 다음은 인공지능의 발전과 미래에 대한 간단한 설명입니다:\n",
      "\n",
      "### 인공지능의 발전\n",
      "\n",
      "1. **초기 단계**: 인공지능은 1950년대에 처음 등장했으며, 초기에는 간단한 알고리즘과 규칙 기반 시스템이 주를 이루었습니다.\n",
      "   \n",
      "2. **머신 러닝**: 1990년대와 2000년대에 머신 러닝이 발전하면서, 특히 데이터 기반의 학습 방식이 중요해졌습니다. 딥러닝(Deep Learning) 기술의 등장으로 인공지능의 성능이 크게 향상되었습니다.\n",
      "\n",
      "3. **딥러닝과 뉴럴 네트워크**: 딥러닝은 인공 신경망을 사용하여 복잡한 패턴을 학습하고 분류할 수 있게 되었습니다. 이를 통해 이미지 인식, 음성 인식, 자연어 처리 등의 성능이 크게 향상되었습니다.\n",
      "\n",
      "4. **강화 학습**: 강화 학습은 에이전트가 환경과 상호작용하며 보상을 최대화하는 방법을 학습하는 기술입니다. 이 기술은 게임 플레이, 로봇 제어 등에서 큰 성과를 보이고 있습니다.\n",
      "\n",
      "### 인공지능의 미래\n",
      "\n",
      "1. **자율 시스템**: 자율 자동차, 드론, 로봇 등 자율 시스템의 발전이 가속화될 것으로 예상됩니다. 이를 통해 운송, 물류, 의료 등 다양한 산업에서 효율성이 향상될 것입니다.\n",
      "\n",
      "2. **개인화된 서비스**: 인공지능은 개인의 선호도와 행동을 분석하여 맞춤형 서비스를 제공할 수 있습니다. 예를 들어, 개인화된 교육 콘텐츠, 맞춤형 광고, 건강 관리 등에서 큰 변화가 예상됩니다.\n",
      "\n",
      "3. **윤리와 규제**: 인공지능의 발전과 함께 윤리적 고려사항과 규제 문제도 중요해질 것입니다. 공정성, 투명성, 개인 정보 보호 등의 문제를 해결하기 위한 노력이 필요할 것입니다.\n",
      "\n",
      "4. **융합 기술**: 인공지능은 다른 기술과의 융합을 통해 더 큰 혁신을 가져올 것입니다. 예를 들어, 바이오테크놀로지, 클라우드 컴퓨팅, 인터넷 오브 씽스(IoT) 등과의 융합이 예상됩니다.\n",
      "\n",
      "5. **일자리 변화**: 인공지능의 발전은 일부 직업을 자동화하여 일자리 구조에 변화를 가져올 것입니다. 반면에, 새로운 직업과 기회도 창출될 것으로 예상됩니다.\n",
      "\n",
      "인공지능의 발전은 빠르게 진행되고 있으며, 미래에는 더 많은 혁신과 변화가 예상됩니다. 이러한 변화를 긍정적으로 활용하기 위해서는 지속적인 연구와 발전, 그리고 윤리적인 고려가 중요합니다.\n"
     ]
    }
   ],
   "source": [
    "# 실행\n",
    "prompt = \"인공지능의 발전과 미래에 대해서 간단하게 설명해주세요.\"\n",
    "result = understand_text(prompt)\n",
    "print(\"\\n[Response Content Text]-------------------\")\n",
    "print(result)"
   ]
  },
  {
   "cell_type": "code",
   "execution_count": null,
   "id": "7cce51ec-af19-4fff-9afe-b6869a3951ca",
   "metadata": {},
   "outputs": [],
   "source": []
  }
 ],
 "metadata": {
  "kernelspec": {
   "display_name": "conda_python3",
   "language": "python",
   "name": "conda_python3"
  },
  "language_info": {
   "codemirror_mode": {
    "name": "ipython",
    "version": 3
   },
   "file_extension": ".py",
   "mimetype": "text/x-python",
   "name": "python",
   "nbconvert_exporter": "python",
   "pygments_lexer": "ipython3",
   "version": "3.10.16"
  }
 },
 "nbformat": 4,
 "nbformat_minor": 5
}
