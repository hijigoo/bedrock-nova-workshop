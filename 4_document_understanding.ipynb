{
 "cells": [
  {
   "cell_type": "code",
   "execution_count": 1,
   "id": "e6372e01-0d5b-4c06-a172-a5ac9ea2512b",
   "metadata": {},
   "outputs": [],
   "source": [
    "import base64\n",
    "import json\n",
    "import boto3\n",
    "\n",
    "def understand_document(file_path, prompt_text):\n",
    "    # Bedrock Runtime 클라이언트 생성 (리전: us-east-1)\n",
    "    client = boto3.client(\n",
    "        \"bedrock-runtime\"\n",
    "    )\n",
    "\n",
    "    # 사용할 모델 ID 지정 (Amazon Pro Lite)\n",
    "    MODEL_ID = \"amazon.nova-pro-v1:0\"\n",
    "\n",
    "    # 문서 파일 열기 및 바이너리로 읽기\n",
    "    with open(file_path, \"rb\") as file:\n",
    "        doc_bytes = file.read()\n",
    "\n",
    "    # 사용자 메시지 구성: PDF 문서 + 질의 텍스트\n",
    "    messages = [\n",
    "        {\n",
    "            \"role\": \"user\",\n",
    "            \"content\": [\n",
    "                {\n",
    "                    \"document\": {\n",
    "                        \"format\": \"pdf\",              # 문서 포맷 지정\n",
    "                        \"name\": \"DocumentPDFmessages\", # 문서 이름 (임의 지정 가능)\n",
    "                        \"source\": {\n",
    "                            \"bytes\": doc_bytes        # 문서를 바이트 형태로 전달\n",
    "                        }\n",
    "                    }\n",
    "                },\n",
    "                {\n",
    "                    \"text\": prompt_text  # 사용자가 알고 싶은 질문\n",
    "                }\n",
    "            ]\n",
    "        }\n",
    "    ]\n",
    "\n",
    "    # 추론 파라미터 설정\n",
    "    inference_params = {\n",
    "        \"maxTokens\": 2048,     # 최대 생성 토큰 수\n",
    "        \"topP\": 0.1,          # top-p 샘플링\n",
    "        \"temperature\": 0.1   # 창의성 조절 (낮을수록 더 결정적)\n",
    "    }\n",
    "\n",
    "    # 모델 호출\n",
    "    model_response = client.converse(\n",
    "        modelId=MODEL_ID,\n",
    "        messages=messages,\n",
    "        inferenceConfig=inference_params\n",
    "    )\n",
    "\n",
    "    # 사용량 정보 출력 (예: 사용한 토큰 수 등)\n",
    "    print(\"\\n[Usage]-------------------\")\n",
    "    print(json.dumps(model_response['usage'], indent=2))\n",
    "\n",
    "    # 생성된 텍스트만 추출 및 출력\n",
    "    content_text = model_response[\"output\"][\"message\"][\"content\"][0][\"text\"]\n",
    "\n",
    "    return content_text\n"
   ]
  },
  {
   "cell_type": "code",
   "execution_count": 2,
   "id": "59629d62-66ce-4880-b7f1-02f69a98103f",
   "metadata": {},
   "outputs": [
    {
     "name": "stdout",
     "output_type": "stream",
     "text": [
      "\n",
      "[Usage]-------------------\n",
      "{\n",
      "  \"inputTokens\": 16938,\n",
      "  \"outputTokens\": 1155,\n",
      "  \"totalTokens\": 18093\n",
      "}\n",
      "\n",
      "[Response Content Text]-------------------\n",
      "1. 페이지: Amazon Bedrock 서비스를 소개하며, 다양한 AI 모델을 통해 애플리케이션을 개발할 수 있는 플랫폼임을 강조합니다. 또한, 서비스의 주요 특징과 이점을 설명하며, 솔루션 아키텍트인 AWS가 제공하는 서비스임을 언급합니다.\n",
      "2. 페이지: Amazon Bedrock의 주요 기능과 특징을 자세히 설명합니다. 여기에는 다양한 AI 모델을 제공하고, 모델을 쉽게 선택하고 사용할 수 있는 기능, 그리고 모델의 성능과 비용을 최적화할 수 있는 기능이 포함됩니다.\n",
      "3. 페이지: Amazon Bedrock의 주요 기능 중 하나인 다양한 AI 모델을 제공하는 기능에 대해 자세히 설명합니다. 여기에는 모델의 종류, 각 모델의 특징, 그리고 모델을 선택할 때 고려해야 할 사항이 포함됩니다.\n",
      "4. 페이지: Amazon Bedrock의 주요 기능 중 하나인 모델을 쉽게 선택하고 사용할 수 있는 기능에 대해 자세히 설명합니다. 여기에는 모델을 선택하는 방법, 모델을 사용하는 방법, 그리고 모델을 사용할 때 주의해야 할 사항이 포함됩니다.\n",
      "5. 페이지: Amazon Bedrock의 주요 기능 중 하나인 모델의 성능과 비용을 최적화할 수 있는 기능에 대해 자세히 설명합니다. 여기에는 모델의 성능을 향상시키는 방법, 모델의 비용을 절감하는 방법, 그리고 모델의 성능과 비용을 최적화할 때 고려해야 할 사항이 포함됩니다.\n",
      "6. 페이지: Amazon Bedrock의 주요 기능 중 하나인 다양한 AI 모델을 제공하는 기능에 대해 자세히 설명합니다. 여기에는 모델의 종류, 각 모델의 특징, 그리고 모델을 선택할 때 고려해야 할 사항이 포함됩니다.\n",
      "7. 페이지: Amazon Bedrock의 주요 기능 중 하나인 모델을 쉽게 선택하고 사용할 수 있는 기능에 대해 자세히 설명합니다. 여기에는 모델을 선택하는 방법, 모델을 사용하는 방법, 그리고 모델을 사용할 때 주의해야 할 사항이 포함됩니다.\n",
      "8. 페이지: Amazon Bedrock의 주요 기능 중 하나인 모델의 성능과 비용을 최적화할 수 있는 기능에 대해 자세히 설명합니다. 여기에는 모델의 성능을 향상시키는 방법, 모델의 비용을 절감하는 방법, 그리고 모델의 성능과 비용을 최적화할 때 고려해야 할 사항이 포함됩니다.\n"
     ]
    }
   ],
   "source": [
    "# 실행\n",
    "file_path = \"sample/document.pdf\"\n",
    "prompt = \"PDF 문서의 모든 페이지 별로 내용을 요약해줘.\"\n",
    "result = understand_document(file_path, prompt)\n",
    "print(\"\\n[Response Content Text]-------------------\")\n",
    "print(result)"
   ]
  },
  {
   "cell_type": "code",
   "execution_count": null,
   "id": "c95d73d3-a8c2-46b6-b846-52eb87f0a1aa",
   "metadata": {},
   "outputs": [],
   "source": []
  }
 ],
 "metadata": {
  "kernelspec": {
   "display_name": "conda_python3",
   "language": "python",
   "name": "conda_python3"
  },
  "language_info": {
   "codemirror_mode": {
    "name": "ipython",
    "version": 3
   },
   "file_extension": ".py",
   "mimetype": "text/x-python",
   "name": "python",
   "nbconvert_exporter": "python",
   "pygments_lexer": "ipython3",
   "version": "3.10.16"
  }
 },
 "nbformat": 4,
 "nbformat_minor": 5
}
